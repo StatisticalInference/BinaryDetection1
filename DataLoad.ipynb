{
 "cells": [
  {
   "cell_type": "markdown",
   "metadata": {},
   "source": [
    "## File Description\n",
    "\n",
    "* `train.csv` - training set\n",
    "* `test.csv` -  test set"
   ]
  },
  {
   "cell_type": "code",
   "execution_count": null,
   "metadata": {},
   "outputs": [],
   "source": [
    "import pandas as pd\n",
    "import matplotlib.pyplot as plt\n",
    "\n",
    "training_df = pd.read_csv(\"train.csv\",index_col='Id') \n",
    "testing_df = pd.read_csv(\"test.csv\",index_col='Id')\n",
    "\n",
    "print(training_df.head())\n",
    "print(testing_df.head())\n",
    "\n",
    "sample0 = training_df['Y'].loc[training_df['Category'] == 0].values\n",
    "sample1 = training_df['Y'].loc[training_df['Category'] == 1].values\n",
    "plt.hist(sample0, bins=50, density=True)\n",
    "plt.hist(sample1, bins=50, density=True)\n",
    "plt.show()"
   ]
  },
  {
   "cell_type": "code",
   "execution_count": null,
   "metadata": {},
   "outputs": [],
   "source": []
  }
 ],
 "metadata": {
  "kernelspec": {
   "display_name": "Python 3",
   "language": "python",
   "name": "python3"
  },
  "language_info": {
   "codemirror_mode": {
    "name": "ipython",
    "version": 3
   },
   "file_extension": ".py",
   "mimetype": "text/x-python",
   "name": "python",
   "nbconvert_exporter": "python",
   "pygments_lexer": "ipython3",
   "version": "3.7.4"
  }
 },
 "nbformat": 4,
 "nbformat_minor": 2
}
